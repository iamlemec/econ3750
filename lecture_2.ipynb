{
 "cells": [
  {
   "cell_type": "code",
   "execution_count": 2,
   "id": "53384029-823f-46ee-8037-15cd4703538b",
   "metadata": {},
   "outputs": [],
   "source": [
    "import jax\n",
    "import jax.numpy as np\n",
    "import matplotlib.pyplot as plt"
   ]
  },
  {
   "cell_type": "code",
   "execution_count": 3,
   "id": "c0d4eb2c-3069-4c52-b65f-3aa3f513ab38",
   "metadata": {},
   "outputs": [],
   "source": [
    "# this requires clean.mplstyle\n",
    "plt.style.use('clean')"
   ]
  },
  {
   "cell_type": "code",
   "execution_count": 4,
   "id": "50a4eee8-3ee0-4664-be59-79b32a2c4ac7",
   "metadata": {},
   "outputs": [],
   "source": [
    "%matplotlib inline\n",
    "%config InlineBackend.figure_format = 'retina'"
   ]
  },
  {
   "cell_type": "code",
   "execution_count": null,
   "id": "6dcf7677-c312-40ea-9edc-9d62664e8bdb",
   "metadata": {},
   "outputs": [],
   "source": []
  }
 ],
 "metadata": {
  "kernelspec": {
   "display_name": "Python 3.9",
   "language": "python",
   "name": "python3.9"
  },
  "language_info": {
   "codemirror_mode": {
    "name": "ipython",
    "version": 3
   },
   "file_extension": ".py",
   "mimetype": "text/x-python",
   "name": "python",
   "nbconvert_exporter": "python",
   "pygments_lexer": "ipython3",
   "version": "3.9.14"
  }
 },
 "nbformat": 4,
 "nbformat_minor": 5
}

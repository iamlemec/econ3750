{
 "cells": [
  {
   "cell_type": "markdown",
   "id": "9ba065b2-5ac6-4e6a-8585-4211851988fa",
   "metadata": {},
   "source": [
    "# Lecture 0: The Ecosystem"
   ]
  },
  {
   "cell_type": "markdown",
   "id": "118fb121-9df4-4c09-b802-1431655d0357",
   "metadata": {},
   "source": [
    "Yes, we're zero indexing!"
   ]
  },
  {
   "cell_type": "markdown",
   "id": "9c314b04-e950-46ef-9214-57f0c55176e9",
   "metadata": {},
   "source": [
    "### Git"
   ]
  },
  {
   "cell_type": "markdown",
   "id": "63cb3119-cbf9-4097-bb29-560cd77fe56d",
   "metadata": {},
   "source": [
    "Git is a version control system."
   ]
  },
  {
   "cell_type": "markdown",
   "id": "13c8d73f-2c63-4a72-99ee-5c31a287502c",
   "metadata": {},
   "source": [
    "### Python"
   ]
  },
  {
   "cell_type": "markdown",
   "id": "5812829c-c0c5-456b-a3c0-999e26a2dad6",
   "metadata": {},
   "source": [
    "There are basically two ways to intall Python. One is the \"native\" way using whatever facilities exist with your operating system (for OSX this would be homebrew), and then using `pip` to install packages. The other way, which is generally more user-friendly and OSX/Windows friendly is to use the Anaconda distribtuion and `conda` to install packages."
   ]
  },
  {
   "cell_type": "markdown",
   "id": "adbb2d0e-b483-4f6e-9e2c-51f6bf4d3b32",
   "metadata": {},
   "source": [
    "The most bare-bones way to run Python is to just execute `python` in the terminal. Depending on your setup, this might actually run Python 2, which is quite old at this point, so it's often safer to run `python3` explicitly. Anyway, you'll almost never need to do this. At the very least you'll want to run in a more user friendly environment like `IPython` by executing `ipython3`, which is sort of a wrapper around `python3`."
   ]
  },
  {
   "cell_type": "markdown",
   "id": "887d72d9-525f-444c-9461-18a91b2843ab",
   "metadata": {},
   "source": [
    "But even then, most of you will prefer to use Jupyterlab. This is a web-based graphical interface that is primary centered on \"notebooks\", which is what you're looking at now basically. It's just a series of cell (code or markdown) that when run produce some kind of output. Notebooks are a way to store the code you've written and the resulting output in one place."
   ]
  },
  {
   "cell_type": "markdown",
   "id": "e5704137-3186-49df-877a-59ead4a82d16",
   "metadata": {},
   "source": [
    "The other place where Python code might \"live\" is in Python files, which are just text files with the extension `.py`. If you have a file named `model.py`, you can run its contents directly with `python3 model.py`. If you're in an IPython terminal and you want to run its contents interactively, you can run `run -i model.py`. Finally, you can use it as a module. In this case you can run the Python command `import model` and there will be a new variable `model` that contains any variables defined therein. So if you'd defined `abc = 5` in `model.py` then `model.abc` will be `5`."
   ]
  },
  {
   "cell_type": "markdown",
   "id": "24e71823-f37b-411b-b6ad-633b1605f3c8",
   "metadata": {},
   "source": [
    "### Jupyter"
   ]
  },
  {
   "cell_type": "markdown",
   "id": "3829b12c-af0f-42bc-b0cb-0acb72fc23ce",
   "metadata": {},
   "source": [
    "Nowadays, you can do almost everything in Jupyterlab. That can be useful, especially if you're working on a remote machine like the Pitt cluster. However, I must emphasize that you shouldn't be doing everything in notebooks. For suffiently complex code, you'll want to put some portions of it proper Python modules (`.py` files, basically) and import them for usage in a notebook. Thus your notebook will contain mostly high level commands and their resulting outputs."
   ]
  },
  {
   "cell_type": "markdown",
   "id": "f1062877-2ba0-4c9e-9782-752238a0e7b3",
   "metadata": {},
   "source": [
    "You can create a new notebook (`.ipynb` file) by clicking on the blue \"+\" on the left and chooseing a Python version (something like 3.9 or higher is recommended). You can also create other file types like Python (`.py`) or markdown (`.md`) or open a system terminal. Finally, you can edit any of these files by double clicking on them in the filesystem pane on the left."
   ]
  },
  {
   "cell_type": "markdown",
   "id": "b773466f-d162-4a2b-a829-da5eb7adc5ce",
   "metadata": {},
   "source": [
    "### Tips"
   ]
  },
  {
   "cell_type": "markdown",
   "id": "3b3c375d-8b52-4c6d-8e4f-7eb00bcc8178",
   "metadata": {},
   "source": [
    "You can make a cell into a markdown cell by pressing `m`. Press `y` to turn it back into a code cell."
   ]
  },
  {
   "cell_type": "code",
   "execution_count": null,
   "id": "8f2d1914-dc6a-401f-8f57-27b8aa17597d",
   "metadata": {},
   "outputs": [],
   "source": []
  }
 ],
 "metadata": {
  "kernelspec": {
   "display_name": "Python 3 (ipykernel)",
   "language": "python",
   "name": "python3"
  },
  "language_info": {
   "codemirror_mode": {
    "name": "ipython",
    "version": 3
   },
   "file_extension": ".py",
   "mimetype": "text/x-python",
   "name": "python",
   "nbconvert_exporter": "python",
   "pygments_lexer": "ipython3",
   "version": "3.9.10"
  }
 },
 "nbformat": 4,
 "nbformat_minor": 5
}
